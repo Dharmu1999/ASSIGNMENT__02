{
 "cells": [
  {
   "cell_type": "markdown",
   "id": "ab8bde47-2400-4558-875f-317d006ca418",
   "metadata": {},
   "source": [
    "Q1.##Write a program to accept percentage Iran' the user and display the grade according to tha following criteria:\n",
    "    \n",
    "Marks greater than 90 Grade A\n",
    "\n",
    "Marks greater than 80 and less than equal to 90 Grade B\n",
    "\n",
    "Marks greater than equal to 60 and less than equal to 80 Grade C\n",
    "\n",
    "Marks below 60: Grade D\n"
   ]
  },
  {
   "cell_type": "code",
   "execution_count": 1,
   "id": "2f4a2b65-5f63-423e-814f-4355dd58f172",
   "metadata": {},
   "outputs": [
    {
     "name": "stdin",
     "output_type": "stream",
     "text": [
      "Enter percentage:  90\n"
     ]
    },
    {
     "name": "stdout",
     "output_type": "stream",
     "text": [
      "Grade: B\n"
     ]
    }
   ],
   "source": [
    "# Accept percentage from the user\n",
    "percentage = float(input(\"Enter percentage: \"))\n",
    "\n",
    "# Check and display grade based on percentage\n",
    "if percentage > 90:\n",
    "    print(\"Grade: A\")\n",
    "elif percentage > 80 and percentage <= 90:\n",
    "    print(\"Grade: B\")\n",
    "elif percentage >= 60 and percentage <= 80:\n",
    "    print(\"Grade: C\")\n",
    "else:\n",
    "    print(\"Grade: D\")\n"
   ]
  },
  {
   "cell_type": "code",
   "execution_count": 2,
   "id": "4644fe58-7383-4d92-9c40-8c545dcf690f",
   "metadata": {},
   "outputs": [],
   "source": [
    "Q.2 # Write a program to accept the cost price of a bike and display the road tax to be paid according to the following criteria:\n"
   ]
  },
  {
   "cell_type": "code",
   "execution_count": 4,
   "id": "9bfe39ac-17e2-4516-a644-888ae558a155",
   "metadata": {},
   "outputs": [
    {
     "name": "stdin",
     "output_type": "stream",
     "text": [
      "Enter cost price (in Rs):  100000\n"
     ]
    },
    {
     "name": "stdout",
     "output_type": "stream",
     "text": [
      "Tax: Rs 10000.0\n"
     ]
    }
   ],
   "source": [
    "# Accept cost price from the user\n",
    "cost_price = float(input(\"Enter cost price (in Rs): \"))\n",
    "\n",
    "# Calculate tax based on cost price\n",
    "if cost_price > 100000:\n",
    "    tax = cost_price * 0.15\n",
    "elif cost_price > 50000 and cost_price <= 100000:\n",
    "    tax = cost_price * 0.10\n",
    "elif cost_price >= 50000:\n",
    "    tax = cost_price * 0.05\n",
    "else:\n",
    "    tax = 0\n",
    "\n",
    "# Display the calculated tax\n",
    "print(\"Tax: Rs\", tax)\n"
   ]
  },
  {
   "cell_type": "markdown",
   "id": "1817ab09-d48b-490e-94d1-da5217aac6be",
   "metadata": {},
   "source": [
    "Q3.## accept any city from the user and display monument of that city? \n",
    "\n",
    "City\tMonument\n",
    "\n",
    "Delhi\tRed Fort\n",
    "\n",
    "Agra\tTaj Manal\n",
    "\n",
    "Jaipur\tJal Mahal"
   ]
  },
  {
   "cell_type": "code",
   "execution_count": 6,
   "id": "9718e9f6-dc51-4e3c-9e8c-159ee86c295e",
   "metadata": {},
   "outputs": [
    {
     "name": "stdin",
     "output_type": "stream",
     "text": [
      "Enter city name:  jaipur\n"
     ]
    },
    {
     "name": "stdout",
     "output_type": "stream",
     "text": [
      "Monument for jaipur jal mahal.\n"
     ]
    }
   ],
   "source": [
    "# Define city-monument mapping\n",
    "city_monument = {\n",
    "    \"Delhi\": \"Red Fort\",\n",
    "    \"Agra\": \"Taj Mahal\",\n",
    "    \"Jaipur\": \"Jal Mahal\"\n",
    "}\n",
    "\n",
    "# Accept city name from the user\n",
    "city = input(\"Enter city name: \")\n",
    "\n",
    "# Retrieve and display monument based on city name\n",
    "if city in city_monument:\n",
    "    monument = city_monument[city]\n",
    "    print(\"Monument in\", city, \"is:\", monument)\n",
    "else:\n",
    "    print(\"Monument for\", city, \"jal mahal.\")\n"
   ]
  },
  {
   "cell_type": "markdown",
   "id": "54b6ed8d-ef77-413d-94bb-0fb9b4da7058",
   "metadata": {},
   "source": [
    "Q4.HOW MANY TIME A GIVEN  NUMBER CAN BE DIVIDED BY 3 BEFORE IT IS LESS THAN EQUAL TO 10?"
   ]
  },
  {
   "cell_type": "code",
   "execution_count": 13,
   "id": "44b21c92-19f4-45ce-96c6-fc31cc4e5387",
   "metadata": {},
   "outputs": [
    {
     "name": "stdin",
     "output_type": "stream",
     "text": [
      "Enter a number:  3\n"
     ]
    },
    {
     "name": "stdout",
     "output_type": "stream",
     "text": [
      "Number of divisions by 3:  0\n"
     ]
    }
   ],
   "source": [
    "# Accept number from the user\n",
    "number = int(input(\"Enter a number: \"))\n",
    "\n",
    "# Initialize counter for division\n",
    "count = 0\n",
    "\n",
    "# Divide the number by 3 until it becomes less than or equal to 10\n",
    "while number > 10:\n",
    "    number = number // 3\n",
    "    count += 1\n",
    "\n",
    "# Display the count of divisions\n",
    "print(\"Number of divisions by 3: \", count)\n"
   ]
  },
  {
   "cell_type": "markdown",
   "id": "8c123020-8fc0-479a-97fc-275cc6179769",
   "metadata": {},
   "source": [
    "Q.5 WHY AND WHEN TO USE WHILE LOOP IN PYTHON GIVEN DETAILS AND DISCRIPTION WITH EXAMPLE ?"
   ]
  },
  {
   "cell_type": "markdown",
   "id": "566db237-2770-431a-9bb0-0cc98d0e379c",
   "metadata": {},
   "source": [
    "ANS=In Python, a while loop is used for repetitive execution of a block of code as long as a specified condition is True. The block of code inside the while loop will keep executing until the condition becomes False.\n",
    "\n",
    "The general syntax for a while loop in Python is as follows:"
   ]
  },
  {
   "cell_type": "code",
   "execution_count": 16,
   "id": "98386441-3d5e-4e1e-a3cf-f9c6c2e11642",
   "metadata": {},
   "outputs": [
    {
     "name": "stdout",
     "output_type": "stream",
     "text": [
      "5\n"
     ]
    }
   ],
   "source": [
    "# Example of searching for an element in a list using a while loop\n",
    "numbers = [1, 2, 3, 4, 5]\n",
    "search_number = 3\n",
    "found = False\n",
    "i = 0\n",
    "while i < len(numbers):\n",
    "    if numbers[i] == search_number:\n",
    "        found = True\n",
    "        break\n",
    "    i += 1\n",
    "if found:\n",
    "    print(\"5\")\n",
    "else:\n",
    "    print(\"7\")\n"
   ]
  },
  {
   "cell_type": "markdown",
   "id": "a41ff06a-04d3-4b7a-a7a6-ceb5102ba37e",
   "metadata": {},
   "source": [
    "Q.6 used nested while loop to print 3 different pattern?"
   ]
  },
  {
   "cell_type": "code",
   "execution_count": 17,
   "id": "4910d780-e379-4af5-8d74-1a126f354aba",
   "metadata": {},
   "outputs": [
    {
     "name": "stdout",
     "output_type": "stream",
     "text": [
      "* \n",
      "* * \n",
      "* * * \n",
      "* * * * \n",
      "* * * * * \n"
     ]
    }
   ],
   "source": [
    "# Pattern 1: Right Triangle\n",
    "rows = 5\n",
    "i = 1\n",
    "while i <= rows:\n",
    "    j = 1\n",
    "    while j <= i:\n",
    "        print(\"*\", end=\" \")\n",
    "        j += 1\n",
    "    print()\n",
    "    i += 1\n"
   ]
  },
  {
   "cell_type": "markdown",
   "id": "730ab3a6-cb0c-439c-b799-c42d4cf602f0",
   "metadata": {},
   "source": [
    "Q.7 ###Reverse a while loop to display number from 10 to 1?"
   ]
  },
  {
   "cell_type": "code",
   "execution_count": 18,
   "id": "1e214114-9cde-430d-b84d-8217bf1ec600",
   "metadata": {},
   "outputs": [
    {
     "name": "stdout",
     "output_type": "stream",
     "text": [
      "10\n",
      "9\n",
      "8\n",
      "7\n",
      "6\n",
      "5\n",
      "4\n",
      "3\n",
      "2\n",
      "1\n"
     ]
    }
   ],
   "source": [
    "# Reverse While Loop\n",
    "num = 10\n",
    "while num >= 1:\n",
    "    print(num)\n",
    "    num -= 1\n"
   ]
  },
  {
   "cell_type": "markdown",
   "id": "1168b609-4b3f-4d7b-9a6f-e4741727a162",
   "metadata": {},
   "source": [
    "Q.8##Reverse a while loop to display number from 10 to 1?"
   ]
  },
  {
   "cell_type": "code",
   "execution_count": 19,
   "id": "b1b1e0a5-19d7-4af2-a713-a2e014899189",
   "metadata": {},
   "outputs": [
    {
     "name": "stdout",
     "output_type": "stream",
     "text": [
      "10\n",
      "9\n",
      "8\n",
      "7\n",
      "6\n",
      "5\n",
      "4\n",
      "3\n",
      "2\n",
      "1\n"
     ]
    }
   ],
   "source": [
    "num = 10\n",
    "while num >= 1:\n",
    "    print(num)\n",
    "    num -= 1\n"
   ]
  },
  {
   "cell_type": "code",
   "execution_count": null,
   "id": "d7bf9c21-20c0-46e9-ba99-701ddb766f9f",
   "metadata": {},
   "outputs": [],
   "source": []
  }
 ],
 "metadata": {
  "kernelspec": {
   "display_name": "Python 3 (ipykernel)",
   "language": "python",
   "name": "python3"
  },
  "language_info": {
   "codemirror_mode": {
    "name": "ipython",
    "version": 3
   },
   "file_extension": ".py",
   "mimetype": "text/x-python",
   "name": "python",
   "nbconvert_exporter": "python",
   "pygments_lexer": "ipython3",
   "version": "3.10.8"
  }
 },
 "nbformat": 4,
 "nbformat_minor": 5
}
